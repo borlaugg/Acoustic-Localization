{
 "cells": [
  {
   "cell_type": "code",
   "execution_count": 1,
   "id": "65219f9b",
   "metadata": {},
   "outputs": [],
   "source": [
    "import librosa\n",
    "import csv\n",
    "import numpy as np\n",
    "import pandas as pd\n",
    "from sklearn.preprocessing import normalize"
   ]
  },
  {
   "cell_type": "code",
   "execution_count": 2,
   "id": "5106e76e",
   "metadata": {},
   "outputs": [],
   "source": [
    "train=pd.read_csv('train.csv',on_bad_lines='skip')\n",
    "train=train.dropna()\n",
    "check=pd.read_csv(\"check.csv\",on_bad_lines='skip')\n",
    "check=check.dropna()"
   ]
  },
  {
   "cell_type": "code",
   "execution_count": 3,
   "id": "e0ff5cc7",
   "metadata": {},
   "outputs": [
    {
     "data": {
      "text/html": [
       "<div>\n",
       "<style scoped>\n",
       "    .dataframe tbody tr th:only-of-type {\n",
       "        vertical-align: middle;\n",
       "    }\n",
       "\n",
       "    .dataframe tbody tr th {\n",
       "        vertical-align: top;\n",
       "    }\n",
       "\n",
       "    .dataframe thead th {\n",
       "        text-align: right;\n",
       "    }\n",
       "</style>\n",
       "<table border=\"1\" class=\"dataframe\">\n",
       "  <thead>\n",
       "    <tr style=\"text-align: right;\">\n",
       "      <th></th>\n",
       "      <th>label</th>\n",
       "      <th>data1</th>\n",
       "      <th>data2</th>\n",
       "      <th>data3</th>\n",
       "      <th>data4</th>\n",
       "      <th>data5</th>\n",
       "      <th>data6</th>\n",
       "      <th>data7</th>\n",
       "      <th>data8</th>\n",
       "      <th>data9</th>\n",
       "      <th>...</th>\n",
       "      <th>data47095</th>\n",
       "      <th>data47096</th>\n",
       "      <th>data47097</th>\n",
       "      <th>data47098</th>\n",
       "      <th>data47099</th>\n",
       "      <th>data47100</th>\n",
       "      <th>data47101</th>\n",
       "      <th>data47102</th>\n",
       "      <th>data47103</th>\n",
       "      <th>data47104</th>\n",
       "    </tr>\n",
       "  </thead>\n",
       "  <tbody>\n",
       "    <tr>\n",
       "      <th>0</th>\n",
       "      <td>1.0</td>\n",
       "      <td>0.0</td>\n",
       "      <td>0.0</td>\n",
       "      <td>0.0</td>\n",
       "      <td>0.0</td>\n",
       "      <td>0.0</td>\n",
       "      <td>0.0</td>\n",
       "      <td>0.0</td>\n",
       "      <td>0.0</td>\n",
       "      <td>0.0</td>\n",
       "      <td>...</td>\n",
       "      <td>0.000610</td>\n",
       "      <td>0.000854</td>\n",
       "      <td>0.000549</td>\n",
       "      <td>0.001007</td>\n",
       "      <td>0.000854</td>\n",
       "      <td>0.000610</td>\n",
       "      <td>0.000885</td>\n",
       "      <td>0.000519</td>\n",
       "      <td>0.001251</td>\n",
       "      <td>0.000427</td>\n",
       "    </tr>\n",
       "    <tr>\n",
       "      <th>1</th>\n",
       "      <td>0.0</td>\n",
       "      <td>0.0</td>\n",
       "      <td>0.0</td>\n",
       "      <td>0.0</td>\n",
       "      <td>0.0</td>\n",
       "      <td>0.0</td>\n",
       "      <td>0.0</td>\n",
       "      <td>0.0</td>\n",
       "      <td>0.0</td>\n",
       "      <td>0.0</td>\n",
       "      <td>...</td>\n",
       "      <td>-0.000092</td>\n",
       "      <td>0.000092</td>\n",
       "      <td>-0.000122</td>\n",
       "      <td>-0.000336</td>\n",
       "      <td>-0.000122</td>\n",
       "      <td>-0.000397</td>\n",
       "      <td>-0.000061</td>\n",
       "      <td>-0.000549</td>\n",
       "      <td>0.000580</td>\n",
       "      <td>-0.000305</td>\n",
       "    </tr>\n",
       "    <tr>\n",
       "      <th>2</th>\n",
       "      <td>1.0</td>\n",
       "      <td>0.0</td>\n",
       "      <td>0.0</td>\n",
       "      <td>0.0</td>\n",
       "      <td>0.0</td>\n",
       "      <td>0.0</td>\n",
       "      <td>0.0</td>\n",
       "      <td>0.0</td>\n",
       "      <td>0.0</td>\n",
       "      <td>0.0</td>\n",
       "      <td>...</td>\n",
       "      <td>0.001404</td>\n",
       "      <td>0.001495</td>\n",
       "      <td>0.001312</td>\n",
       "      <td>0.000610</td>\n",
       "      <td>0.001495</td>\n",
       "      <td>0.001343</td>\n",
       "      <td>0.000824</td>\n",
       "      <td>0.001160</td>\n",
       "      <td>0.000488</td>\n",
       "      <td>0.001160</td>\n",
       "    </tr>\n",
       "    <tr>\n",
       "      <th>3</th>\n",
       "      <td>0.0</td>\n",
       "      <td>0.0</td>\n",
       "      <td>0.0</td>\n",
       "      <td>0.0</td>\n",
       "      <td>0.0</td>\n",
       "      <td>0.0</td>\n",
       "      <td>0.0</td>\n",
       "      <td>0.0</td>\n",
       "      <td>0.0</td>\n",
       "      <td>0.0</td>\n",
       "      <td>...</td>\n",
       "      <td>0.002930</td>\n",
       "      <td>0.001923</td>\n",
       "      <td>0.002472</td>\n",
       "      <td>0.002258</td>\n",
       "      <td>0.002045</td>\n",
       "      <td>0.002228</td>\n",
       "      <td>0.001190</td>\n",
       "      <td>0.001831</td>\n",
       "      <td>0.001617</td>\n",
       "      <td>0.001434</td>\n",
       "    </tr>\n",
       "    <tr>\n",
       "      <th>4</th>\n",
       "      <td>1.0</td>\n",
       "      <td>0.0</td>\n",
       "      <td>0.0</td>\n",
       "      <td>0.0</td>\n",
       "      <td>0.0</td>\n",
       "      <td>0.0</td>\n",
       "      <td>0.0</td>\n",
       "      <td>0.0</td>\n",
       "      <td>0.0</td>\n",
       "      <td>0.0</td>\n",
       "      <td>...</td>\n",
       "      <td>0.003021</td>\n",
       "      <td>0.002869</td>\n",
       "      <td>0.002869</td>\n",
       "      <td>0.002960</td>\n",
       "      <td>0.002747</td>\n",
       "      <td>0.003204</td>\n",
       "      <td>0.003052</td>\n",
       "      <td>0.003418</td>\n",
       "      <td>0.003418</td>\n",
       "      <td>0.003052</td>\n",
       "    </tr>\n",
       "  </tbody>\n",
       "</table>\n",
       "<p>5 rows × 47105 columns</p>\n",
       "</div>"
      ],
      "text/plain": [
       "   label  data1  data2  data3  data4  data5  data6  data7  data8  data9  ...  \\\n",
       "0    1.0    0.0    0.0    0.0    0.0    0.0    0.0    0.0    0.0    0.0  ...   \n",
       "1    0.0    0.0    0.0    0.0    0.0    0.0    0.0    0.0    0.0    0.0  ...   \n",
       "2    1.0    0.0    0.0    0.0    0.0    0.0    0.0    0.0    0.0    0.0  ...   \n",
       "3    0.0    0.0    0.0    0.0    0.0    0.0    0.0    0.0    0.0    0.0  ...   \n",
       "4    1.0    0.0    0.0    0.0    0.0    0.0    0.0    0.0    0.0    0.0  ...   \n",
       "\n",
       "   data47095  data47096  data47097  data47098  data47099  data47100  \\\n",
       "0   0.000610   0.000854   0.000549   0.001007   0.000854   0.000610   \n",
       "1  -0.000092   0.000092  -0.000122  -0.000336  -0.000122  -0.000397   \n",
       "2   0.001404   0.001495   0.001312   0.000610   0.001495   0.001343   \n",
       "3   0.002930   0.001923   0.002472   0.002258   0.002045   0.002228   \n",
       "4   0.003021   0.002869   0.002869   0.002960   0.002747   0.003204   \n",
       "\n",
       "   data47101  data47102  data47103  data47104  \n",
       "0   0.000885   0.000519   0.001251   0.000427  \n",
       "1  -0.000061  -0.000549   0.000580  -0.000305  \n",
       "2   0.000824   0.001160   0.000488   0.001160  \n",
       "3   0.001190   0.001831   0.001617   0.001434  \n",
       "4   0.003052   0.003418   0.003418   0.003052  \n",
       "\n",
       "[5 rows x 47105 columns]"
      ]
     },
     "execution_count": 3,
     "metadata": {},
     "output_type": "execute_result"
    }
   ],
   "source": [
    "train.head()"
   ]
  },
  {
   "cell_type": "code",
   "execution_count": 4,
   "id": "cb9aacdb",
   "metadata": {},
   "outputs": [
    {
     "data": {
      "text/html": [
       "<div>\n",
       "<style scoped>\n",
       "    .dataframe tbody tr th:only-of-type {\n",
       "        vertical-align: middle;\n",
       "    }\n",
       "\n",
       "    .dataframe tbody tr th {\n",
       "        vertical-align: top;\n",
       "    }\n",
       "\n",
       "    .dataframe thead th {\n",
       "        text-align: right;\n",
       "    }\n",
       "</style>\n",
       "<table border=\"1\" class=\"dataframe\">\n",
       "  <thead>\n",
       "    <tr style=\"text-align: right;\">\n",
       "      <th></th>\n",
       "      <th>label</th>\n",
       "      <th>data1</th>\n",
       "      <th>data2</th>\n",
       "      <th>data3</th>\n",
       "      <th>data4</th>\n",
       "      <th>data5</th>\n",
       "      <th>data6</th>\n",
       "      <th>data7</th>\n",
       "      <th>data8</th>\n",
       "      <th>data9</th>\n",
       "      <th>...</th>\n",
       "      <th>data47095</th>\n",
       "      <th>data47096</th>\n",
       "      <th>data47097</th>\n",
       "      <th>data47098</th>\n",
       "      <th>data47099</th>\n",
       "      <th>data47100</th>\n",
       "      <th>data47101</th>\n",
       "      <th>data47102</th>\n",
       "      <th>data47103</th>\n",
       "      <th>data47104</th>\n",
       "    </tr>\n",
       "  </thead>\n",
       "  <tbody>\n",
       "    <tr>\n",
       "      <th>1</th>\n",
       "      <td>0.0</td>\n",
       "      <td>0.0</td>\n",
       "      <td>0.0</td>\n",
       "      <td>0.0</td>\n",
       "      <td>0.0</td>\n",
       "      <td>0.0</td>\n",
       "      <td>0.0</td>\n",
       "      <td>0.0</td>\n",
       "      <td>0.0</td>\n",
       "      <td>0.0</td>\n",
       "      <td>...</td>\n",
       "      <td>-0.000824</td>\n",
       "      <td>-0.000580</td>\n",
       "      <td>-0.001434</td>\n",
       "      <td>-0.001343</td>\n",
       "      <td>-0.001068</td>\n",
       "      <td>-0.001404</td>\n",
       "      <td>-0.001678</td>\n",
       "      <td>-0.001709</td>\n",
       "      <td>-0.001617</td>\n",
       "      <td>-0.001984</td>\n",
       "    </tr>\n",
       "    <tr>\n",
       "      <th>2</th>\n",
       "      <td>1.0</td>\n",
       "      <td>0.0</td>\n",
       "      <td>0.0</td>\n",
       "      <td>0.0</td>\n",
       "      <td>0.0</td>\n",
       "      <td>0.0</td>\n",
       "      <td>0.0</td>\n",
       "      <td>0.0</td>\n",
       "      <td>0.0</td>\n",
       "      <td>0.0</td>\n",
       "      <td>...</td>\n",
       "      <td>0.001495</td>\n",
       "      <td>0.000946</td>\n",
       "      <td>0.000610</td>\n",
       "      <td>0.001373</td>\n",
       "      <td>0.000977</td>\n",
       "      <td>0.001648</td>\n",
       "      <td>0.001892</td>\n",
       "      <td>0.002136</td>\n",
       "      <td>0.002472</td>\n",
       "      <td>0.002380</td>\n",
       "    </tr>\n",
       "    <tr>\n",
       "      <th>3</th>\n",
       "      <td>0.0</td>\n",
       "      <td>0.0</td>\n",
       "      <td>0.0</td>\n",
       "      <td>0.0</td>\n",
       "      <td>0.0</td>\n",
       "      <td>0.0</td>\n",
       "      <td>0.0</td>\n",
       "      <td>0.0</td>\n",
       "      <td>0.0</td>\n",
       "      <td>0.0</td>\n",
       "      <td>...</td>\n",
       "      <td>0.000671</td>\n",
       "      <td>0.000244</td>\n",
       "      <td>0.000305</td>\n",
       "      <td>0.000061</td>\n",
       "      <td>0.000031</td>\n",
       "      <td>0.000519</td>\n",
       "      <td>-0.000122</td>\n",
       "      <td>0.001038</td>\n",
       "      <td>0.000336</td>\n",
       "      <td>0.000244</td>\n",
       "    </tr>\n",
       "    <tr>\n",
       "      <th>4</th>\n",
       "      <td>1.0</td>\n",
       "      <td>0.0</td>\n",
       "      <td>0.0</td>\n",
       "      <td>0.0</td>\n",
       "      <td>0.0</td>\n",
       "      <td>0.0</td>\n",
       "      <td>0.0</td>\n",
       "      <td>0.0</td>\n",
       "      <td>0.0</td>\n",
       "      <td>0.0</td>\n",
       "      <td>...</td>\n",
       "      <td>-0.000397</td>\n",
       "      <td>-0.001434</td>\n",
       "      <td>-0.000916</td>\n",
       "      <td>-0.001038</td>\n",
       "      <td>-0.000275</td>\n",
       "      <td>-0.000946</td>\n",
       "      <td>-0.001099</td>\n",
       "      <td>-0.000580</td>\n",
       "      <td>-0.000916</td>\n",
       "      <td>-0.000244</td>\n",
       "    </tr>\n",
       "    <tr>\n",
       "      <th>5</th>\n",
       "      <td>0.0</td>\n",
       "      <td>0.0</td>\n",
       "      <td>0.0</td>\n",
       "      <td>0.0</td>\n",
       "      <td>0.0</td>\n",
       "      <td>0.0</td>\n",
       "      <td>0.0</td>\n",
       "      <td>0.0</td>\n",
       "      <td>0.0</td>\n",
       "      <td>0.0</td>\n",
       "      <td>...</td>\n",
       "      <td>0.000885</td>\n",
       "      <td>0.001892</td>\n",
       "      <td>0.001404</td>\n",
       "      <td>0.001007</td>\n",
       "      <td>0.001495</td>\n",
       "      <td>0.001312</td>\n",
       "      <td>0.000885</td>\n",
       "      <td>0.001068</td>\n",
       "      <td>0.000641</td>\n",
       "      <td>0.000763</td>\n",
       "    </tr>\n",
       "  </tbody>\n",
       "</table>\n",
       "<p>5 rows × 47105 columns</p>\n",
       "</div>"
      ],
      "text/plain": [
       "   label  data1  data2  data3  data4  data5  data6  data7  data8  data9  ...  \\\n",
       "1    0.0    0.0    0.0    0.0    0.0    0.0    0.0    0.0    0.0    0.0  ...   \n",
       "2    1.0    0.0    0.0    0.0    0.0    0.0    0.0    0.0    0.0    0.0  ...   \n",
       "3    0.0    0.0    0.0    0.0    0.0    0.0    0.0    0.0    0.0    0.0  ...   \n",
       "4    1.0    0.0    0.0    0.0    0.0    0.0    0.0    0.0    0.0    0.0  ...   \n",
       "5    0.0    0.0    0.0    0.0    0.0    0.0    0.0    0.0    0.0    0.0  ...   \n",
       "\n",
       "   data47095  data47096  data47097  data47098  data47099  data47100  \\\n",
       "1  -0.000824  -0.000580  -0.001434  -0.001343  -0.001068  -0.001404   \n",
       "2   0.001495   0.000946   0.000610   0.001373   0.000977   0.001648   \n",
       "3   0.000671   0.000244   0.000305   0.000061   0.000031   0.000519   \n",
       "4  -0.000397  -0.001434  -0.000916  -0.001038  -0.000275  -0.000946   \n",
       "5   0.000885   0.001892   0.001404   0.001007   0.001495   0.001312   \n",
       "\n",
       "   data47101  data47102  data47103  data47104  \n",
       "1  -0.001678  -0.001709  -0.001617  -0.001984  \n",
       "2   0.001892   0.002136   0.002472   0.002380  \n",
       "3  -0.000122   0.001038   0.000336   0.000244  \n",
       "4  -0.001099  -0.000580  -0.000916  -0.000244  \n",
       "5   0.000885   0.001068   0.000641   0.000763  \n",
       "\n",
       "[5 rows x 47105 columns]"
      ]
     },
     "execution_count": 4,
     "metadata": {},
     "output_type": "execute_result"
    }
   ],
   "source": [
    "check.head()"
   ]
  },
  {
   "cell_type": "code",
   "execution_count": 5,
   "id": "7c2fc02d",
   "metadata": {},
   "outputs": [],
   "source": [
    "#corner=1 wall=0\n",
    "train_label=train['label']\n",
    "check_label=check['label']\n",
    "del train['label']\n",
    "del check['label']"
   ]
  },
  {
   "cell_type": "code",
   "execution_count": 6,
   "id": "dbe449d2",
   "metadata": {},
   "outputs": [
    {
     "data": {
      "text/plain": [
       "(1379,)"
      ]
     },
     "execution_count": 6,
     "metadata": {},
     "output_type": "execute_result"
    }
   ],
   "source": [
    "train_label.shape"
   ]
  },
  {
   "cell_type": "code",
   "execution_count": 7,
   "id": "042db980",
   "metadata": {},
   "outputs": [
    {
     "data": {
      "text/plain": [
       "(420,)"
      ]
     },
     "execution_count": 7,
     "metadata": {},
     "output_type": "execute_result"
    }
   ],
   "source": [
    "check_label.shape"
   ]
  },
  {
   "cell_type": "code",
   "execution_count": 8,
   "id": "1d3bb55b",
   "metadata": {},
   "outputs": [
    {
     "data": {
      "text/plain": [
       "(1379, 47104)"
      ]
     },
     "execution_count": 8,
     "metadata": {},
     "output_type": "execute_result"
    }
   ],
   "source": [
    "train.shape"
   ]
  },
  {
   "cell_type": "code",
   "execution_count": 9,
   "id": "1406e70e",
   "metadata": {},
   "outputs": [
    {
     "data": {
      "text/plain": [
       "(420, 47104)"
      ]
     },
     "execution_count": 9,
     "metadata": {},
     "output_type": "execute_result"
    }
   ],
   "source": [
    "check.shape"
   ]
  },
  {
   "cell_type": "code",
   "execution_count": 10,
   "id": "e8b14d56",
   "metadata": {},
   "outputs": [],
   "source": [
    "x_rms=[]\n",
    "x_sumsq=[]\n",
    "x_onset_env=[]\n",
    "tr=np.array(train)\n",
    "ch=np.array(check)\n",
    "for i in range(0,np.size(tr,0)):\n",
    "    x_rms=np.append(librosa.feature.rms(y=tr[i], frame_length=4096, hop_length=4000, center=True, pad_mode='reflect'),x_rms)\n",
    "    window=librosa.filters.get_window(tr[i], Nx=47104)\n",
    "    x_sumsq=np.append(librosa.filters.window_sumsquare(window,n_frames=1,hop_length=4000,n_fft=47104),x_sumsq)\n",
    "    x_onset_env = np.append(librosa.onset.onset_strength(y=tr[i], sr=44100, max_size=12),x_onset_env) \n",
    "y_rms=[]\n",
    "y_sumsq=[]\n",
    "y_onset_env=[]\n",
    "for i in range(0,np.size(ch,0)):\n",
    "    y_rms=np.append(librosa.feature.rms(y=ch[i], frame_length=4096, hop_length=4000, center=True, pad_mode='reflect'),y_rms)\n",
    "    window2=librosa.filters.get_window(ch[i], Nx=47104)\n",
    "    y_sumsq=np.append(librosa.filters.window_sumsquare(window2,n_frames=1,hop_length=4000,n_fft=47104),y_sumsq)\n",
    "    y_onset_env = np.append(librosa.onset.onset_strength(y=ch[i], sr=44100, max_size=12),y_onset_env) "
   ]
  },
  {
   "cell_type": "code",
   "execution_count": 11,
   "id": "345c5fc6",
   "metadata": {},
   "outputs": [],
   "source": [
    "def padding(array, xx, yy):\n",
    "    \"\"\"\n",
    "    :param array: numpy array\n",
    "    :param xx: desired height\n",
    "    :param yy: desirex width\n",
    "    :return: padded array\n",
    "    \"\"\"\n",
    "    h = array.shape[0]\n",
    "    w = array.shape[1]\n",
    "    a = max((xx - h) // 2,0)\n",
    "    aa = max(0,xx - a - h)\n",
    "    b = max(0,(yy - w) // 2)\n",
    "    bb = max(yy - b - w,0)\n",
    "    return np.pad(array, pad_width=((a, aa), (b, bb)), mode='constant')"
   ]
  },
  {
   "cell_type": "code",
   "execution_count": null,
   "id": "3c313cd1",
   "metadata": {},
   "outputs": [],
   "source": [
    "max_size=47104 #my max audio file feature width\n",
    "#Now the padding part\n",
    "image = np.array([padding(normalize(spec_bw),1, max_size)]).reshape(1,max_size)\n",
    "image = np.append(image,padding(normalize(spec_centroid),1, max_size), axis=0) \n",
    "#repeat the padded spec_bw,spec_centroid and chroma stft until they are stft and MFCC-sized\n",
    "    image = np.append(image,padding(normalize(spec_bw),1, max_size), axis=0)\n",
    "    image = np.append(image, padding(normalize(spec_centroid),1, max_size), axis=0)\n",
    "    image = np.append(image, padding(normalize(chroma_stft),12, max_size), axis=0)\n",
    "image=np.dstack((image,np.abs(stft)))\n",
    "image=np.dstack((image,MFCCs))"
   ]
  },
  {
   "cell_type": "code",
   "execution_count": 14,
   "id": "03f81794",
   "metadata": {},
   "outputs": [],
   "source": [
    "osm=(x_train-x_train.min())/(x_train.max()-x_train.min())\n",
    "wow=(x_check-x_check.min())/(x_check.max()-x_check.min())"
   ]
  },
  {
   "cell_type": "code",
   "execution_count": 15,
   "id": "90cf2d9b",
   "metadata": {},
   "outputs": [
    {
     "data": {
      "text/plain": [
       "1.0"
      ]
     },
     "execution_count": 15,
     "metadata": {},
     "output_type": "execute_result"
    }
   ],
   "source": [
    "osm.max()"
   ]
  },
  {
   "cell_type": "code",
   "execution_count": 16,
   "id": "ecaa6d11",
   "metadata": {},
   "outputs": [
    {
     "data": {
      "text/plain": [
       "1.0"
      ]
     },
     "execution_count": 16,
     "metadata": {},
     "output_type": "execute_result"
    }
   ],
   "source": [
    "wow.max()"
   ]
  },
  {
   "cell_type": "code",
   "execution_count": 12,
   "id": "27f53b28",
   "metadata": {},
   "outputs": [
    {
     "ename": "NameError",
     "evalue": "name 'models' is not defined",
     "output_type": "error",
     "traceback": [
      "\u001b[1;31m---------------------------------------------------------------------------\u001b[0m",
      "\u001b[1;31mNameError\u001b[0m                                 Traceback (most recent call last)",
      "\u001b[1;32m~\\AppData\\Local\\Temp/ipykernel_14288/379524857.py\u001b[0m in \u001b[0;36m<module>\u001b[1;34m\u001b[0m\n\u001b[1;32m----> 1\u001b[1;33m \u001b[0mCNNmodel\u001b[0m \u001b[1;33m=\u001b[0m \u001b[0mmodels\u001b[0m\u001b[1;33m.\u001b[0m\u001b[0mSequential\u001b[0m\u001b[1;33m(\u001b[0m\u001b[1;33m)\u001b[0m\u001b[1;33m\u001b[0m\u001b[1;33m\u001b[0m\u001b[0m\n\u001b[0m\u001b[0;32m      2\u001b[0m \u001b[0mCNNmodel\u001b[0m\u001b[1;33m.\u001b[0m\u001b[0madd\u001b[0m\u001b[1;33m(\u001b[0m\u001b[0mlayers\u001b[0m\u001b[1;33m.\u001b[0m\u001b[0mConv2D\u001b[0m\u001b[1;33m(\u001b[0m\u001b[1;36m32\u001b[0m\u001b[1;33m,\u001b[0m \u001b[1;33m(\u001b[0m\u001b[1;36m3\u001b[0m\u001b[1;33m,\u001b[0m \u001b[1;36m3\u001b[0m\u001b[1;33m)\u001b[0m\u001b[1;33m,\u001b[0m \u001b[0mactivation\u001b[0m\u001b[1;33m=\u001b[0m\u001b[1;34m'relu'\u001b[0m\u001b[1;33m,\u001b[0m \u001b[0minput_shape\u001b[0m\u001b[1;33m=\u001b[0m\u001b[0minput_shape\u001b[0m\u001b[1;33m)\u001b[0m\u001b[1;33m)\u001b[0m\u001b[1;33m\u001b[0m\u001b[1;33m\u001b[0m\u001b[0m\n\u001b[0;32m      3\u001b[0m \u001b[0mCNNmodel\u001b[0m\u001b[1;33m.\u001b[0m\u001b[0madd\u001b[0m\u001b[1;33m(\u001b[0m\u001b[0mlayers\u001b[0m\u001b[1;33m.\u001b[0m\u001b[0mMaxPooling2D\u001b[0m\u001b[1;33m(\u001b[0m\u001b[1;33m(\u001b[0m\u001b[1;36m2\u001b[0m\u001b[1;33m,\u001b[0m \u001b[1;36m2\u001b[0m\u001b[1;33m)\u001b[0m\u001b[1;33m)\u001b[0m\u001b[1;33m)\u001b[0m\u001b[1;33m\u001b[0m\u001b[1;33m\u001b[0m\u001b[0m\n\u001b[0;32m      4\u001b[0m \u001b[0mCNNmodel\u001b[0m\u001b[1;33m.\u001b[0m\u001b[0madd\u001b[0m\u001b[1;33m(\u001b[0m\u001b[0mlayers\u001b[0m\u001b[1;33m.\u001b[0m\u001b[0mDropout\u001b[0m\u001b[1;33m(\u001b[0m\u001b[1;36m0.2\u001b[0m\u001b[1;33m)\u001b[0m\u001b[1;33m)\u001b[0m\u001b[1;33m\u001b[0m\u001b[1;33m\u001b[0m\u001b[0m\n\u001b[0;32m      5\u001b[0m \u001b[0mCNNmodel\u001b[0m\u001b[1;33m.\u001b[0m\u001b[0madd\u001b[0m\u001b[1;33m(\u001b[0m\u001b[0mlayers\u001b[0m\u001b[1;33m.\u001b[0m\u001b[0mConv2D\u001b[0m\u001b[1;33m(\u001b[0m\u001b[1;36m64\u001b[0m\u001b[1;33m,\u001b[0m \u001b[1;33m(\u001b[0m\u001b[1;36m3\u001b[0m\u001b[1;33m,\u001b[0m \u001b[1;36m3\u001b[0m\u001b[1;33m)\u001b[0m\u001b[1;33m,\u001b[0m \u001b[0mactivation\u001b[0m\u001b[1;33m=\u001b[0m\u001b[1;34m'relu'\u001b[0m\u001b[1;33m)\u001b[0m\u001b[1;33m)\u001b[0m\u001b[1;33m\u001b[0m\u001b[1;33m\u001b[0m\u001b[0m\n",
      "\u001b[1;31mNameError\u001b[0m: name 'models' is not defined"
     ]
    }
   ],
   "source": [
    "CNNmodel = model.Sequential()\n",
    "CNNmodel.add(layers.Conv2D(32, (3, 3), activation='relu', input_shape=input_shape))\n",
    "CNNmodel.add(layers.MaxPooling2D((2, 2)))\n",
    "CNNmodel.add(layers.Dropout(0.2))\n",
    "CNNmodel.add(layers.Conv2D(64, (3, 3), activation='relu'))\n",
    "CNNmodel.add(layers.MaxPooling2D((2, 2)))\n",
    "CNNmodel.add(layers.Dropout(0.2))\n",
    "CNNmodel.add(layers.Conv2D(64, (3, 3), activation='relu'))\n",
    "CNNmodel.add(layers.Flatten())\n",
    "CNNmodel.add(layers.Dense(64, activation='relu'))\n",
    "CNNmodel.add(layers.Dropout(0.2))\n",
    "CNNmodel.add(layers.Dense(32, activation='relu'))\n",
    "CNNmodel.add(layers.Dense(24, activation='softmax'))"
   ]
  },
  {
   "cell_type": "code",
   "execution_count": null,
   "id": "5e691c32",
   "metadata": {},
   "outputs": [],
   "source": [
    "model.summary()"
   ]
  },
  {
   "cell_type": "code",
   "execution_count": null,
   "id": "c3350dde",
   "metadata": {},
   "outputs": [],
   "source": [
    "model.compile(loss=tf.keras.losses.SparseCategoricalCrossentropy(from_logits=False),metrics=['accuracy'],optimizer='adam')"
   ]
  },
  {
   "cell_type": "code",
   "execution_count": null,
   "id": "dff570ee",
   "metadata": {},
   "outputs": [],
   "source": [
    "model.fit(osm,train_label,epochs=30,verbose=1)"
   ]
  },
  {
   "cell_type": "code",
   "execution_count": null,
   "id": "b37d1e9e",
   "metadata": {},
   "outputs": [],
   "source": [
    "model.evaluate(wow,check_label)"
   ]
  },
  {
   "cell_type": "code",
   "execution_count": null,
   "id": "3d506731",
   "metadata": {},
   "outputs": [],
   "source": []
  },
  {
   "cell_type": "code",
   "execution_count": null,
   "id": "919452fb",
   "metadata": {},
   "outputs": [],
   "source": []
  }
 ],
 "metadata": {
  "kernelspec": {
   "display_name": "Python 3 (ipykernel)",
   "language": "python",
   "name": "python3"
  },
  "language_info": {
   "codemirror_mode": {
    "name": "ipython",
    "version": 3
   },
   "file_extension": ".py",
   "mimetype": "text/x-python",
   "name": "python",
   "nbconvert_exporter": "python",
   "pygments_lexer": "ipython3",
   "version": "3.8.10"
  }
 },
 "nbformat": 4,
 "nbformat_minor": 5
}
