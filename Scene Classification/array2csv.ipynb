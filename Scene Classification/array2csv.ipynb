{
 "cells": [
  {
   "cell_type": "code",
   "execution_count": 1,
   "id": "68bbd15d",
   "metadata": {},
   "outputs": [],
   "source": [
    "#to convert all data to one csv file"
   ]
  },
  {
   "cell_type": "code",
   "execution_count": 1,
   "id": "55726e23",
   "metadata": {},
   "outputs": [],
   "source": [
    "import csv\n",
    "import os\n",
    "from glob import glob\n",
    "import pandas as pd\n",
    "import numpy as np\n",
    "import librosa"
   ]
  },
  {
   "cell_type": "code",
   "execution_count": 2,
   "id": "a974be54",
   "metadata": {},
   "outputs": [],
   "source": [
    "data_dir='./train/corner/thirtydeg/0915'\n",
    "corner_files=glob(data_dir+'/*.wav')\n",
    "data_dir2='./train/wall/zerodeg/0915'\n",
    "wall_files=glob(data_dir2+'/*.wav')"
   ]
  },
  {
   "cell_type": "code",
   "execution_count": 3,
   "id": "9760fe1d",
   "metadata": {},
   "outputs": [],
   "source": [
    "for i in range(0,len(corner_files)):\n",
    "    y,sr=librosa.load(corner_files[i],sr=None, mono=True)\n",
    "    z,srz=librosa.load(wall_files[i],sr=None, mono=True)\n",
    "    y=np.append([1],y,0)\n",
    "    z=np.append([0],z,0)\n",
    "    with open('train.csv', 'a') as f:\n",
    "        writer = csv.writer(f)\n",
    "        writer.writerow(y.T)\n",
    "        writer.writerow(z.T)"
   ]
  },
  {
   "cell_type": "code",
   "execution_count": 4,
   "id": "7bb1c3cd",
   "metadata": {},
   "outputs": [],
   "source": [
    "data_dir='./train/corner/sixty/0915'\n",
    "corner_files=glob(data_dir+'/*.wav')\n",
    "data_dir2='./train/wall/thirty/0915'\n",
    "wall_files=glob(data_dir2+'/*.wav')"
   ]
  },
  {
   "cell_type": "code",
   "execution_count": 5,
   "id": "ace0605e",
   "metadata": {},
   "outputs": [],
   "source": [
    "for i in range(0,len(corner_files)):\n",
    "    y,sr=librosa.load(corner_files[i],sr=None, mono=True)\n",
    "    z,srz=librosa.load(wall_files[i],sr=None, mono=True)\n",
    "    y=np.append([1],y,0)\n",
    "    z=np.append([0],z,0)\n",
    "    with open('check.csv', 'a') as r:\n",
    "        writer2 = csv.writer(r)\n",
    "        writer2.writerow(y.T)\n",
    "        writer2.writerow(z.T)"
   ]
  },
  {
   "cell_type": "code",
   "execution_count": 16,
   "id": "11e601da",
   "metadata": {},
   "outputs": [
    {
     "data": {
      "text/plain": [
       "-0.001190185546875"
      ]
     },
     "execution_count": 16,
     "metadata": {},
     "output_type": "execute_result"
    }
   ],
   "source": []
  },
  {
   "cell_type": "code",
   "execution_count": null,
   "id": "0dc6138a",
   "metadata": {},
   "outputs": [],
   "source": []
  },
  {
   "cell_type": "code",
   "execution_count": null,
   "id": "4ab8a984",
   "metadata": {},
   "outputs": [],
   "source": []
  },
  {
   "cell_type": "code",
   "execution_count": 6,
   "id": "099392b7",
   "metadata": {},
   "outputs": [],
   "source": [
    "flds=['label']\n",
    "for i in range(1,47105):\n",
    "    flds+=['data'+str(i)]\n",
    "with open('check.csv', 'a') as r:\n",
    "    writer2 = csv.writer(r)\n",
    "    writer2.writerow(flds)\n",
    "with open('train.csv', 'a') as f:\n",
    "    writer = csv.writer(f)\n",
    "    writer.writerow(flds)"
   ]
  }
 ],
 "metadata": {
  "kernelspec": {
   "display_name": "Python 3 (ipykernel)",
   "language": "python",
   "name": "python3"
  },
  "language_info": {
   "codemirror_mode": {
    "name": "ipython",
    "version": 3
   },
   "file_extension": ".py",
   "mimetype": "text/x-python",
   "name": "python",
   "nbconvert_exporter": "python",
   "pygments_lexer": "ipython3",
   "version": "3.8.10"
  }
 },
 "nbformat": 4,
 "nbformat_minor": 5
}
