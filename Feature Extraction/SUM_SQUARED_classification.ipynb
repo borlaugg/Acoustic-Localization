{
 "cells": [
  {
   "cell_type": "code",
   "execution_count": 1,
   "id": "65219f9b",
   "metadata": {},
   "outputs": [],
   "source": [
    "import librosa\n",
    "import csv\n",
    "import numpy as np\n",
    "import pandas as pd"
   ]
  },
  {
   "cell_type": "code",
   "execution_count": 2,
   "id": "5106e76e",
   "metadata": {},
   "outputs": [],
   "source": [
    "train=pd.read_csv('train.csv',on_bad_lines='skip')\n",
    "train=train.dropna()\n",
    "check=pd.read_csv(\"check.csv\",on_bad_lines='skip')\n",
    "check=check.dropna()"
   ]
  },
  {
   "cell_type": "code",
   "execution_count": 3,
   "id": "e0ff5cc7",
   "metadata": {},
   "outputs": [
    {
     "data": {
      "text/html": [
       "<div>\n",
       "<style scoped>\n",
       "    .dataframe tbody tr th:only-of-type {\n",
       "        vertical-align: middle;\n",
       "    }\n",
       "\n",
       "    .dataframe tbody tr th {\n",
       "        vertical-align: top;\n",
       "    }\n",
       "\n",
       "    .dataframe thead th {\n",
       "        text-align: right;\n",
       "    }\n",
       "</style>\n",
       "<table border=\"1\" class=\"dataframe\">\n",
       "  <thead>\n",
       "    <tr style=\"text-align: right;\">\n",
       "      <th></th>\n",
       "      <th>label</th>\n",
       "      <th>data1</th>\n",
       "      <th>data2</th>\n",
       "      <th>data3</th>\n",
       "      <th>data4</th>\n",
       "      <th>data5</th>\n",
       "      <th>data6</th>\n",
       "      <th>data7</th>\n",
       "      <th>data8</th>\n",
       "      <th>data9</th>\n",
       "      <th>...</th>\n",
       "      <th>data47095</th>\n",
       "      <th>data47096</th>\n",
       "      <th>data47097</th>\n",
       "      <th>data47098</th>\n",
       "      <th>data47099</th>\n",
       "      <th>data47100</th>\n",
       "      <th>data47101</th>\n",
       "      <th>data47102</th>\n",
       "      <th>data47103</th>\n",
       "      <th>data47104</th>\n",
       "    </tr>\n",
       "  </thead>\n",
       "  <tbody>\n",
       "    <tr>\n",
       "      <th>0</th>\n",
       "      <td>1.0</td>\n",
       "      <td>0.0</td>\n",
       "      <td>0.0</td>\n",
       "      <td>0.0</td>\n",
       "      <td>0.0</td>\n",
       "      <td>0.0</td>\n",
       "      <td>0.0</td>\n",
       "      <td>0.0</td>\n",
       "      <td>0.0</td>\n",
       "      <td>0.0</td>\n",
       "      <td>...</td>\n",
       "      <td>0.000610</td>\n",
       "      <td>0.000854</td>\n",
       "      <td>0.000549</td>\n",
       "      <td>0.001007</td>\n",
       "      <td>0.000854</td>\n",
       "      <td>0.000610</td>\n",
       "      <td>0.000885</td>\n",
       "      <td>0.000519</td>\n",
       "      <td>0.001251</td>\n",
       "      <td>0.000427</td>\n",
       "    </tr>\n",
       "    <tr>\n",
       "      <th>1</th>\n",
       "      <td>0.0</td>\n",
       "      <td>0.0</td>\n",
       "      <td>0.0</td>\n",
       "      <td>0.0</td>\n",
       "      <td>0.0</td>\n",
       "      <td>0.0</td>\n",
       "      <td>0.0</td>\n",
       "      <td>0.0</td>\n",
       "      <td>0.0</td>\n",
       "      <td>0.0</td>\n",
       "      <td>...</td>\n",
       "      <td>-0.000092</td>\n",
       "      <td>0.000092</td>\n",
       "      <td>-0.000122</td>\n",
       "      <td>-0.000336</td>\n",
       "      <td>-0.000122</td>\n",
       "      <td>-0.000397</td>\n",
       "      <td>-0.000061</td>\n",
       "      <td>-0.000549</td>\n",
       "      <td>0.000580</td>\n",
       "      <td>-0.000305</td>\n",
       "    </tr>\n",
       "    <tr>\n",
       "      <th>2</th>\n",
       "      <td>1.0</td>\n",
       "      <td>0.0</td>\n",
       "      <td>0.0</td>\n",
       "      <td>0.0</td>\n",
       "      <td>0.0</td>\n",
       "      <td>0.0</td>\n",
       "      <td>0.0</td>\n",
       "      <td>0.0</td>\n",
       "      <td>0.0</td>\n",
       "      <td>0.0</td>\n",
       "      <td>...</td>\n",
       "      <td>0.001404</td>\n",
       "      <td>0.001495</td>\n",
       "      <td>0.001312</td>\n",
       "      <td>0.000610</td>\n",
       "      <td>0.001495</td>\n",
       "      <td>0.001343</td>\n",
       "      <td>0.000824</td>\n",
       "      <td>0.001160</td>\n",
       "      <td>0.000488</td>\n",
       "      <td>0.001160</td>\n",
       "    </tr>\n",
       "    <tr>\n",
       "      <th>3</th>\n",
       "      <td>0.0</td>\n",
       "      <td>0.0</td>\n",
       "      <td>0.0</td>\n",
       "      <td>0.0</td>\n",
       "      <td>0.0</td>\n",
       "      <td>0.0</td>\n",
       "      <td>0.0</td>\n",
       "      <td>0.0</td>\n",
       "      <td>0.0</td>\n",
       "      <td>0.0</td>\n",
       "      <td>...</td>\n",
       "      <td>0.002930</td>\n",
       "      <td>0.001923</td>\n",
       "      <td>0.002472</td>\n",
       "      <td>0.002258</td>\n",
       "      <td>0.002045</td>\n",
       "      <td>0.002228</td>\n",
       "      <td>0.001190</td>\n",
       "      <td>0.001831</td>\n",
       "      <td>0.001617</td>\n",
       "      <td>0.001434</td>\n",
       "    </tr>\n",
       "    <tr>\n",
       "      <th>4</th>\n",
       "      <td>1.0</td>\n",
       "      <td>0.0</td>\n",
       "      <td>0.0</td>\n",
       "      <td>0.0</td>\n",
       "      <td>0.0</td>\n",
       "      <td>0.0</td>\n",
       "      <td>0.0</td>\n",
       "      <td>0.0</td>\n",
       "      <td>0.0</td>\n",
       "      <td>0.0</td>\n",
       "      <td>...</td>\n",
       "      <td>0.003021</td>\n",
       "      <td>0.002869</td>\n",
       "      <td>0.002869</td>\n",
       "      <td>0.002960</td>\n",
       "      <td>0.002747</td>\n",
       "      <td>0.003204</td>\n",
       "      <td>0.003052</td>\n",
       "      <td>0.003418</td>\n",
       "      <td>0.003418</td>\n",
       "      <td>0.003052</td>\n",
       "    </tr>\n",
       "  </tbody>\n",
       "</table>\n",
       "<p>5 rows × 47105 columns</p>\n",
       "</div>"
      ],
      "text/plain": [
       "   label  data1  data2  data3  data4  data5  data6  data7  data8  data9  ...  \\\n",
       "0    1.0    0.0    0.0    0.0    0.0    0.0    0.0    0.0    0.0    0.0  ...   \n",
       "1    0.0    0.0    0.0    0.0    0.0    0.0    0.0    0.0    0.0    0.0  ...   \n",
       "2    1.0    0.0    0.0    0.0    0.0    0.0    0.0    0.0    0.0    0.0  ...   \n",
       "3    0.0    0.0    0.0    0.0    0.0    0.0    0.0    0.0    0.0    0.0  ...   \n",
       "4    1.0    0.0    0.0    0.0    0.0    0.0    0.0    0.0    0.0    0.0  ...   \n",
       "\n",
       "   data47095  data47096  data47097  data47098  data47099  data47100  \\\n",
       "0   0.000610   0.000854   0.000549   0.001007   0.000854   0.000610   \n",
       "1  -0.000092   0.000092  -0.000122  -0.000336  -0.000122  -0.000397   \n",
       "2   0.001404   0.001495   0.001312   0.000610   0.001495   0.001343   \n",
       "3   0.002930   0.001923   0.002472   0.002258   0.002045   0.002228   \n",
       "4   0.003021   0.002869   0.002869   0.002960   0.002747   0.003204   \n",
       "\n",
       "   data47101  data47102  data47103  data47104  \n",
       "0   0.000885   0.000519   0.001251   0.000427  \n",
       "1  -0.000061  -0.000549   0.000580  -0.000305  \n",
       "2   0.000824   0.001160   0.000488   0.001160  \n",
       "3   0.001190   0.001831   0.001617   0.001434  \n",
       "4   0.003052   0.003418   0.003418   0.003052  \n",
       "\n",
       "[5 rows x 47105 columns]"
      ]
     },
     "execution_count": 3,
     "metadata": {},
     "output_type": "execute_result"
    }
   ],
   "source": [
    "train.head()"
   ]
  },
  {
   "cell_type": "code",
   "execution_count": 4,
   "id": "cb9aacdb",
   "metadata": {},
   "outputs": [
    {
     "data": {
      "text/html": [
       "<div>\n",
       "<style scoped>\n",
       "    .dataframe tbody tr th:only-of-type {\n",
       "        vertical-align: middle;\n",
       "    }\n",
       "\n",
       "    .dataframe tbody tr th {\n",
       "        vertical-align: top;\n",
       "    }\n",
       "\n",
       "    .dataframe thead th {\n",
       "        text-align: right;\n",
       "    }\n",
       "</style>\n",
       "<table border=\"1\" class=\"dataframe\">\n",
       "  <thead>\n",
       "    <tr style=\"text-align: right;\">\n",
       "      <th></th>\n",
       "      <th>label</th>\n",
       "      <th>data1</th>\n",
       "      <th>data2</th>\n",
       "      <th>data3</th>\n",
       "      <th>data4</th>\n",
       "      <th>data5</th>\n",
       "      <th>data6</th>\n",
       "      <th>data7</th>\n",
       "      <th>data8</th>\n",
       "      <th>data9</th>\n",
       "      <th>...</th>\n",
       "      <th>data47095</th>\n",
       "      <th>data47096</th>\n",
       "      <th>data47097</th>\n",
       "      <th>data47098</th>\n",
       "      <th>data47099</th>\n",
       "      <th>data47100</th>\n",
       "      <th>data47101</th>\n",
       "      <th>data47102</th>\n",
       "      <th>data47103</th>\n",
       "      <th>data47104</th>\n",
       "    </tr>\n",
       "  </thead>\n",
       "  <tbody>\n",
       "    <tr>\n",
       "      <th>1</th>\n",
       "      <td>0.0</td>\n",
       "      <td>0.0</td>\n",
       "      <td>0.0</td>\n",
       "      <td>0.0</td>\n",
       "      <td>0.0</td>\n",
       "      <td>0.0</td>\n",
       "      <td>0.0</td>\n",
       "      <td>0.0</td>\n",
       "      <td>0.0</td>\n",
       "      <td>0.0</td>\n",
       "      <td>...</td>\n",
       "      <td>-0.000824</td>\n",
       "      <td>-0.000580</td>\n",
       "      <td>-0.001434</td>\n",
       "      <td>-0.001343</td>\n",
       "      <td>-0.001068</td>\n",
       "      <td>-0.001404</td>\n",
       "      <td>-0.001678</td>\n",
       "      <td>-0.001709</td>\n",
       "      <td>-0.001617</td>\n",
       "      <td>-0.001984</td>\n",
       "    </tr>\n",
       "    <tr>\n",
       "      <th>2</th>\n",
       "      <td>1.0</td>\n",
       "      <td>0.0</td>\n",
       "      <td>0.0</td>\n",
       "      <td>0.0</td>\n",
       "      <td>0.0</td>\n",
       "      <td>0.0</td>\n",
       "      <td>0.0</td>\n",
       "      <td>0.0</td>\n",
       "      <td>0.0</td>\n",
       "      <td>0.0</td>\n",
       "      <td>...</td>\n",
       "      <td>0.001495</td>\n",
       "      <td>0.000946</td>\n",
       "      <td>0.000610</td>\n",
       "      <td>0.001373</td>\n",
       "      <td>0.000977</td>\n",
       "      <td>0.001648</td>\n",
       "      <td>0.001892</td>\n",
       "      <td>0.002136</td>\n",
       "      <td>0.002472</td>\n",
       "      <td>0.002380</td>\n",
       "    </tr>\n",
       "    <tr>\n",
       "      <th>3</th>\n",
       "      <td>0.0</td>\n",
       "      <td>0.0</td>\n",
       "      <td>0.0</td>\n",
       "      <td>0.0</td>\n",
       "      <td>0.0</td>\n",
       "      <td>0.0</td>\n",
       "      <td>0.0</td>\n",
       "      <td>0.0</td>\n",
       "      <td>0.0</td>\n",
       "      <td>0.0</td>\n",
       "      <td>...</td>\n",
       "      <td>0.000671</td>\n",
       "      <td>0.000244</td>\n",
       "      <td>0.000305</td>\n",
       "      <td>0.000061</td>\n",
       "      <td>0.000031</td>\n",
       "      <td>0.000519</td>\n",
       "      <td>-0.000122</td>\n",
       "      <td>0.001038</td>\n",
       "      <td>0.000336</td>\n",
       "      <td>0.000244</td>\n",
       "    </tr>\n",
       "    <tr>\n",
       "      <th>4</th>\n",
       "      <td>1.0</td>\n",
       "      <td>0.0</td>\n",
       "      <td>0.0</td>\n",
       "      <td>0.0</td>\n",
       "      <td>0.0</td>\n",
       "      <td>0.0</td>\n",
       "      <td>0.0</td>\n",
       "      <td>0.0</td>\n",
       "      <td>0.0</td>\n",
       "      <td>0.0</td>\n",
       "      <td>...</td>\n",
       "      <td>-0.000397</td>\n",
       "      <td>-0.001434</td>\n",
       "      <td>-0.000916</td>\n",
       "      <td>-0.001038</td>\n",
       "      <td>-0.000275</td>\n",
       "      <td>-0.000946</td>\n",
       "      <td>-0.001099</td>\n",
       "      <td>-0.000580</td>\n",
       "      <td>-0.000916</td>\n",
       "      <td>-0.000244</td>\n",
       "    </tr>\n",
       "    <tr>\n",
       "      <th>5</th>\n",
       "      <td>0.0</td>\n",
       "      <td>0.0</td>\n",
       "      <td>0.0</td>\n",
       "      <td>0.0</td>\n",
       "      <td>0.0</td>\n",
       "      <td>0.0</td>\n",
       "      <td>0.0</td>\n",
       "      <td>0.0</td>\n",
       "      <td>0.0</td>\n",
       "      <td>0.0</td>\n",
       "      <td>...</td>\n",
       "      <td>0.000885</td>\n",
       "      <td>0.001892</td>\n",
       "      <td>0.001404</td>\n",
       "      <td>0.001007</td>\n",
       "      <td>0.001495</td>\n",
       "      <td>0.001312</td>\n",
       "      <td>0.000885</td>\n",
       "      <td>0.001068</td>\n",
       "      <td>0.000641</td>\n",
       "      <td>0.000763</td>\n",
       "    </tr>\n",
       "  </tbody>\n",
       "</table>\n",
       "<p>5 rows × 47105 columns</p>\n",
       "</div>"
      ],
      "text/plain": [
       "   label  data1  data2  data3  data4  data5  data6  data7  data8  data9  ...  \\\n",
       "1    0.0    0.0    0.0    0.0    0.0    0.0    0.0    0.0    0.0    0.0  ...   \n",
       "2    1.0    0.0    0.0    0.0    0.0    0.0    0.0    0.0    0.0    0.0  ...   \n",
       "3    0.0    0.0    0.0    0.0    0.0    0.0    0.0    0.0    0.0    0.0  ...   \n",
       "4    1.0    0.0    0.0    0.0    0.0    0.0    0.0    0.0    0.0    0.0  ...   \n",
       "5    0.0    0.0    0.0    0.0    0.0    0.0    0.0    0.0    0.0    0.0  ...   \n",
       "\n",
       "   data47095  data47096  data47097  data47098  data47099  data47100  \\\n",
       "1  -0.000824  -0.000580  -0.001434  -0.001343  -0.001068  -0.001404   \n",
       "2   0.001495   0.000946   0.000610   0.001373   0.000977   0.001648   \n",
       "3   0.000671   0.000244   0.000305   0.000061   0.000031   0.000519   \n",
       "4  -0.000397  -0.001434  -0.000916  -0.001038  -0.000275  -0.000946   \n",
       "5   0.000885   0.001892   0.001404   0.001007   0.001495   0.001312   \n",
       "\n",
       "   data47101  data47102  data47103  data47104  \n",
       "1  -0.001678  -0.001709  -0.001617  -0.001984  \n",
       "2   0.001892   0.002136   0.002472   0.002380  \n",
       "3  -0.000122   0.001038   0.000336   0.000244  \n",
       "4  -0.001099  -0.000580  -0.000916  -0.000244  \n",
       "5   0.000885   0.001068   0.000641   0.000763  \n",
       "\n",
       "[5 rows x 47105 columns]"
      ]
     },
     "execution_count": 4,
     "metadata": {},
     "output_type": "execute_result"
    }
   ],
   "source": [
    "check.head()"
   ]
  },
  {
   "cell_type": "code",
   "execution_count": 5,
   "id": "7c2fc02d",
   "metadata": {},
   "outputs": [],
   "source": [
    "#corner=1 wall=0\n",
    "train_label=train['label']\n",
    "check_label=check['label']\n",
    "del train['label']\n",
    "del check['label']"
   ]
  },
  {
   "cell_type": "code",
   "execution_count": 6,
   "id": "dbe449d2",
   "metadata": {},
   "outputs": [
    {
     "data": {
      "text/plain": [
       "(1379,)"
      ]
     },
     "execution_count": 6,
     "metadata": {},
     "output_type": "execute_result"
    }
   ],
   "source": [
    "train_label.shape"
   ]
  },
  {
   "cell_type": "code",
   "execution_count": 7,
   "id": "042db980",
   "metadata": {},
   "outputs": [
    {
     "data": {
      "text/plain": [
       "(420,)"
      ]
     },
     "execution_count": 7,
     "metadata": {},
     "output_type": "execute_result"
    }
   ],
   "source": [
    "check_label.shape"
   ]
  },
  {
   "cell_type": "code",
   "execution_count": 8,
   "id": "1d3bb55b",
   "metadata": {},
   "outputs": [
    {
     "data": {
      "text/plain": [
       "(1379, 47104)"
      ]
     },
     "execution_count": 8,
     "metadata": {},
     "output_type": "execute_result"
    }
   ],
   "source": [
    "train.shape"
   ]
  },
  {
   "cell_type": "code",
   "execution_count": 9,
   "id": "1406e70e",
   "metadata": {},
   "outputs": [
    {
     "data": {
      "text/plain": [
       "(420, 47104)"
      ]
     },
     "execution_count": 9,
     "metadata": {},
     "output_type": "execute_result"
    }
   ],
   "source": [
    "check.shape"
   ]
  },
  {
   "cell_type": "code",
   "execution_count": 10,
   "id": "e8b14d56",
   "metadata": {},
   "outputs": [],
   "source": [
    "x_train=np.zeros((np.size(train,0),47104))\n",
    "tr=np.array(train)\n",
    "ch=np.array(check)\n",
    "for i in range(0,np.size(tr,0)):\n",
    "    window=librosa.filters.get_window(tr[i], Nx=47104)\n",
    "    x_train[i,:]=librosa.filters.window_sumsquare(window,n_frames=1,hop_length=4000,n_fft=47104)\n",
    "x_check=np.zeros((np.size(check,0),47104))\n",
    "for i in range(0,np.size(ch,0)):\n",
    "    window2=librosa.filters.get_window(ch[i], Nx=47104)\n",
    "    x_check[i,:]=librosa.filters.window_sumsquare(window2,n_frames=1,hop_length=4000,n_fft=47104)"
   ]
  },
  {
   "cell_type": "code",
   "execution_count": 11,
   "id": "345c5fc6",
   "metadata": {},
   "outputs": [
    {
     "data": {
      "text/plain": [
       "(1379, 47104)"
      ]
     },
     "execution_count": 11,
     "metadata": {},
     "output_type": "execute_result"
    }
   ],
   "source": [
    "x_train.shape"
   ]
  },
  {
   "cell_type": "code",
   "execution_count": 12,
   "id": "16a5ef26",
   "metadata": {},
   "outputs": [],
   "source": [
    "osm=(x_train-x_train.min())/(x_train.max()-x_train.min())"
   ]
  },
  {
   "cell_type": "code",
   "execution_count": 13,
   "id": "8da9306e",
   "metadata": {},
   "outputs": [],
   "source": [
    "wow=(x_check-x_check.min())/(x_check.max()-x_check.min())"
   ]
  },
  {
   "cell_type": "code",
   "execution_count": 46,
   "id": "e7812a6a",
   "metadata": {},
   "outputs": [],
   "source": [
    "from tensorflow.keras.models import Sequential\n",
    "from tensorflow import keras\n",
    "from tensorflow.keras.layers import (\n",
    "    Dense,\n",
    "    Flatten,\n",
    "    Dropout,\n",
    "    BatchNormalization,\n",
    "    Embedding,\n",
    "    LSTM\n",
    ")\n",
    "\n",
    "model = Sequential()\n",
    "model.add(Dense(units=100,activation='softmax',input_shape=(47104,)))\n",
    "model.add(BatchNormalization())\n",
    "model.add(Dropout(0.1))\n",
    "model.add(Dense(units=50,activation='linear',input_shape=(47104,)))\n",
    "model.add(BatchNormalization())\n",
    "model.add(Dropout(0.1))\n",
    "model.add(Dense(units=1, activation=\"sigmoid\"))"
   ]
  },
  {
   "cell_type": "code",
   "execution_count": 47,
   "id": "43589552",
   "metadata": {},
   "outputs": [
    {
     "name": "stdout",
     "output_type": "stream",
     "text": [
      "Model: \"sequential_3\"\n",
      "_________________________________________________________________\n",
      " Layer (type)                Output Shape              Param #   \n",
      "=================================================================\n",
      " dense_9 (Dense)             (None, 100)               4710500   \n",
      "                                                                 \n",
      " batch_normalization_6 (Batc  (None, 100)              400       \n",
      " hNormalization)                                                 \n",
      "                                                                 \n",
      " dropout_6 (Dropout)         (None, 100)               0         \n",
      "                                                                 \n",
      " dense_10 (Dense)            (None, 50)                5050      \n",
      "                                                                 \n",
      " batch_normalization_7 (Batc  (None, 50)               200       \n",
      " hNormalization)                                                 \n",
      "                                                                 \n",
      " dropout_7 (Dropout)         (None, 50)                0         \n",
      "                                                                 \n",
      " dense_11 (Dense)            (None, 1)                 51        \n",
      "                                                                 \n",
      "=================================================================\n",
      "Total params: 4,716,201\n",
      "Trainable params: 4,715,901\n",
      "Non-trainable params: 300\n",
      "_________________________________________________________________\n"
     ]
    }
   ],
   "source": [
    "model.summary()"
   ]
  },
  {
   "cell_type": "code",
   "execution_count": 52,
   "id": "c3350dde",
   "metadata": {},
   "outputs": [],
   "source": [
    "model.compile(loss='categorical_crossentropy',metrics=['accuracy'],optimizer='adamax')"
   ]
  },
  {
   "cell_type": "code",
   "execution_count": 53,
   "id": "dff570ee",
   "metadata": {},
   "outputs": [
    {
     "name": "stdout",
     "output_type": "stream",
     "text": [
      "Epoch 1/20\n",
      "44/44 [==============================] - 2s 27ms/step - loss: 0.0000e+00 - accuracy: 0.9362 - val_loss: 0.0000e+00 - val_accuracy: 0.6690\n",
      "Epoch 2/20\n",
      "44/44 [==============================] - 1s 24ms/step - loss: 0.0000e+00 - accuracy: 0.9507 - val_loss: 0.0000e+00 - val_accuracy: 0.6548\n",
      "Epoch 3/20\n",
      "44/44 [==============================] - 1s 23ms/step - loss: 0.0000e+00 - accuracy: 0.9413 - val_loss: 0.0000e+00 - val_accuracy: 0.6571\n",
      "Epoch 4/20\n",
      "44/44 [==============================] - 1s 25ms/step - loss: 0.0000e+00 - accuracy: 0.9449 - val_loss: 0.0000e+00 - val_accuracy: 0.6548\n",
      "Epoch 5/20\n",
      "44/44 [==============================] - 1s 23ms/step - loss: 0.0000e+00 - accuracy: 0.9521 - val_loss: 0.0000e+00 - val_accuracy: 0.6571\n",
      "Epoch 6/20\n",
      "44/44 [==============================] - 1s 23ms/step - loss: 0.0000e+00 - accuracy: 0.9471 - val_loss: 0.0000e+00 - val_accuracy: 0.6595\n",
      "Epoch 7/20\n",
      "44/44 [==============================] - 1s 23ms/step - loss: 0.0000e+00 - accuracy: 0.9536 - val_loss: 0.0000e+00 - val_accuracy: 0.6548\n",
      "Epoch 8/20\n",
      "44/44 [==============================] - 1s 25ms/step - loss: 0.0000e+00 - accuracy: 0.9521 - val_loss: 0.0000e+00 - val_accuracy: 0.6571\n",
      "Epoch 9/20\n",
      "44/44 [==============================] - 1s 25ms/step - loss: 0.0000e+00 - accuracy: 0.9405 - val_loss: 0.0000e+00 - val_accuracy: 0.6548\n",
      "Epoch 10/20\n",
      "44/44 [==============================] - 1s 24ms/step - loss: 0.0000e+00 - accuracy: 0.9558 - val_loss: 0.0000e+00 - val_accuracy: 0.6524\n",
      "Epoch 11/20\n",
      "44/44 [==============================] - 1s 24ms/step - loss: 0.0000e+00 - accuracy: 0.9572 - val_loss: 0.0000e+00 - val_accuracy: 0.6548\n",
      "Epoch 12/20\n",
      "44/44 [==============================] - 1s 24ms/step - loss: 0.0000e+00 - accuracy: 0.9565 - val_loss: 0.0000e+00 - val_accuracy: 0.6619\n",
      "Epoch 13/20\n",
      "44/44 [==============================] - 1s 25ms/step - loss: 0.0000e+00 - accuracy: 0.9536 - val_loss: 0.0000e+00 - val_accuracy: 0.6524\n",
      "Epoch 14/20\n",
      "44/44 [==============================] - 1s 26ms/step - loss: 0.0000e+00 - accuracy: 0.9550 - val_loss: 0.0000e+00 - val_accuracy: 0.6548\n",
      "Epoch 15/20\n",
      "44/44 [==============================] - 1s 24ms/step - loss: 0.0000e+00 - accuracy: 0.9521 - val_loss: 0.0000e+00 - val_accuracy: 0.6452\n",
      "Epoch 16/20\n",
      "44/44 [==============================] - 1s 23ms/step - loss: 0.0000e+00 - accuracy: 0.9558 - val_loss: 0.0000e+00 - val_accuracy: 0.6429\n",
      "Epoch 17/20\n",
      "44/44 [==============================] - 1s 23ms/step - loss: 0.0000e+00 - accuracy: 0.9594 - val_loss: 0.0000e+00 - val_accuracy: 0.6571\n",
      "Epoch 18/20\n",
      "44/44 [==============================] - 1s 25ms/step - loss: 0.0000e+00 - accuracy: 0.9478 - val_loss: 0.0000e+00 - val_accuracy: 0.6452\n",
      "Epoch 19/20\n",
      "44/44 [==============================] - 1s 24ms/step - loss: 0.0000e+00 - accuracy: 0.9543 - val_loss: 0.0000e+00 - val_accuracy: 0.6500\n",
      "Epoch 20/20\n",
      "44/44 [==============================] - 1s 24ms/step - loss: 0.0000e+00 - accuracy: 0.9543 - val_loss: 0.0000e+00 - val_accuracy: 0.6548\n"
     ]
    },
    {
     "data": {
      "text/plain": [
       "<keras.callbacks.History at 0x20087bbbc40>"
      ]
     },
     "execution_count": 53,
     "metadata": {},
     "output_type": "execute_result"
    }
   ],
   "source": [
    "model.fit(osm,train_label,epochs=20,verbose=1,validation_data=(wow,check_label))"
   ]
  },
  {
   "cell_type": "code",
   "execution_count": 51,
   "id": "b37d1e9e",
   "metadata": {},
   "outputs": [
    {
     "name": "stdout",
     "output_type": "stream",
     "text": [
      "14/14 [==============================] - 0s 7ms/step - loss: 0.0000e+00 - accuracy: 0.6571\n"
     ]
    },
    {
     "data": {
      "text/plain": [
       "[0.0, 0.6571428775787354]"
      ]
     },
     "execution_count": 51,
     "metadata": {},
     "output_type": "execute_result"
    }
   ],
   "source": [
    "model.evaluate(wow,check_label)"
   ]
  },
  {
   "cell_type": "code",
   "execution_count": null,
   "id": "3d506731",
   "metadata": {},
   "outputs": [],
   "source": []
  },
  {
   "cell_type": "code",
   "execution_count": null,
   "id": "919452fb",
   "metadata": {},
   "outputs": [],
   "source": []
  },
  {
   "cell_type": "code",
   "execution_count": null,
   "id": "14800c65",
   "metadata": {},
   "outputs": [],
   "source": []
  }
 ],
 "metadata": {
  "kernelspec": {
   "display_name": "Python 3 (ipykernel)",
   "language": "python",
   "name": "python3"
  },
  "language_info": {
   "codemirror_mode": {
    "name": "ipython",
    "version": 3
   },
   "file_extension": ".py",
   "mimetype": "text/x-python",
   "name": "python",
   "nbconvert_exporter": "python",
   "pygments_lexer": "ipython3",
   "version": "3.8.10"
  }
 },
 "nbformat": 4,
 "nbformat_minor": 5
}
